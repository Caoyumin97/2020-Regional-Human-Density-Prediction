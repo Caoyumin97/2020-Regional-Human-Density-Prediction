{
 "cells": [
  {
   "cell_type": "markdown",
   "metadata": {},
   "source": [
    "# Libraries"
   ]
  },
  {
   "cell_type": "code",
   "execution_count": 58,
   "metadata": {
    "ExecuteTime": {
     "end_time": "2020-03-05T15:04:33.450531Z",
     "start_time": "2020-03-05T15:04:33.446574Z"
    }
   },
   "outputs": [],
   "source": [
    "import os\n",
    "import glob\n",
    "import datetime\n",
    "\n",
    "import numpy as np\n",
    "import pandas as pd\n",
    "from easyeda import eda\n",
    "\n",
    "from geohash import encode"
   ]
  },
  {
   "cell_type": "markdown",
   "metadata": {},
   "source": [
    "# Load Data"
   ]
  },
  {
   "cell_type": "code",
   "execution_count": 3,
   "metadata": {
    "ExecuteTime": {
     "end_time": "2020-03-05T14:34:32.907026Z",
     "start_time": "2020-03-05T14:34:32.901043Z"
    }
   },
   "outputs": [
    {
     "data": {
      "text/plain": [
       "['../Data\\\\area_passenger_index.csv',\n",
       " '../Data\\\\area_passenger_info.csv',\n",
       " '../Data\\\\grid_strength.csv',\n",
       " '../Data\\\\migration_index.csv',\n",
       " '../Data\\\\shortstay_20200117_20200131.csv',\n",
       " '../Data\\\\shortstay_20200201_20200215.csv']"
      ]
     },
     "execution_count": 3,
     "metadata": {},
     "output_type": "execute_result"
    }
   ],
   "source": [
    "filedir = glob.glob(pathname='../Data/*.csv')\n",
    "filedir"
   ]
  },
  {
   "cell_type": "markdown",
   "metadata": {},
   "source": [
    "## area_passenger_info"
   ]
  },
  {
   "cell_type": "code",
   "execution_count": 8,
   "metadata": {
    "ExecuteTime": {
     "end_time": "2020-03-05T14:39:34.087821Z",
     "start_time": "2020-03-05T14:39:34.068881Z"
    }
   },
   "outputs": [
    {
     "name": "stdout",
     "output_type": "stream",
     "text": [
      "<class 'pandas.core.frame.DataFrame'>\n",
      "RangeIndex: 997 entries, 0 to 996\n",
      "Data columns (total 8 columns):\n",
      "Id           997 non-null int64\n",
      "areaName     997 non-null object\n",
      "areaType     997 non-null object\n",
      "centerLon    997 non-null float64\n",
      "centerLat    997 non-null float64\n",
      "gridLon      997 non-null float64\n",
      "gridLat      997 non-null float64\n",
      "coverage     997 non-null float64\n",
      "dtypes: float64(5), int64(1), object(2)\n",
      "memory usage: 62.4+ KB\n"
     ]
    }
   ],
   "source": [
    "area_passenger_info = pd.read_csv(filedir[1], header=None)\n",
    "area_passenger_info.columns = ['Id', 'areaName', 'areaType', 'centerLon', 'centerLat',\n",
    "                               'gridLon', 'gridLat', 'coverage']\n",
    "area_passenger_info.info()"
   ]
  },
  {
   "cell_type": "markdown",
   "metadata": {},
   "source": [
    "## area_passenger_index"
   ]
  },
  {
   "cell_type": "code",
   "execution_count": 35,
   "metadata": {
    "ExecuteTime": {
     "end_time": "2020-03-05T14:53:50.770467Z",
     "start_time": "2020-03-05T14:53:48.718919Z"
    }
   },
   "outputs": [
    {
     "name": "stdout",
     "output_type": "stream",
     "text": [
      "<class 'pandas.core.frame.DataFrame'>\n",
      "RangeIndex: 717840 entries, 0 to 717839\n",
      "Data columns (total 3 columns):\n",
      "gridIdx     717840 non-null int64\n",
      "datetime    717840 non-null datetime64[ns]\n",
      "Density     717840 non-null float64\n",
      "dtypes: datetime64[ns](1), float64(1), int64(1)\n",
      "memory usage: 16.4 MB\n"
     ]
    }
   ],
   "source": [
    "area_passenger_ind = pd.read_csv(filedir[0],header = None)\n",
    "area_passenger_ind.columns = ['gridIdx','datetime','Density']\n",
    "area_passenger_ind['datetime'] = pd.to_datetime(area_passenger_ind['datetime'],format=\"%Y%m%d%H\")\n",
    "area_passenger_ind.info()"
   ]
  },
  {
   "cell_type": "markdown",
   "metadata": {},
   "source": [
    "## grid_strength"
   ]
  },
  {
   "cell_type": "code",
   "execution_count": 10,
   "metadata": {
    "ExecuteTime": {
     "end_time": "2020-03-05T14:42:40.613989Z",
     "start_time": "2020-03-05T14:42:39.450074Z"
    }
   },
   "outputs": [
    {
     "name": "stdout",
     "output_type": "stream",
     "text": [
      "<class 'pandas.core.frame.DataFrame'>\n",
      "RangeIndex: 1127247 entries, 0 to 1127246\n",
      "Data columns (total 6 columns):\n",
      "hour            1127247 non-null int64\n",
      "startGridLon    1127247 non-null float64\n",
      "startGridLat    1127247 non-null float64\n",
      "endGridLon      1127247 non-null float64\n",
      "endGridLat      1127247 non-null float64\n",
      "index           1127247 non-null float64\n",
      "dtypes: float64(5), int64(1)\n",
      "memory usage: 51.6 MB\n"
     ]
    }
   ],
   "source": [
    "grid_strength = pd.read_csv(filedir[2], header=None)\n",
    "grid_strength.columns = ['hour', 'startGridLon', 'startGridLat',\n",
    "                         'endGridLon', 'endGridLat', 'index']\n",
    "grid_strength.info()"
   ]
  },
  {
   "cell_type": "markdown",
   "metadata": {},
   "source": [
    "## migration_index"
   ]
  },
  {
   "cell_type": "code",
   "execution_count": 28,
   "metadata": {
    "ExecuteTime": {
     "end_time": "2020-03-05T14:50:54.115900Z",
     "start_time": "2020-03-05T14:50:54.061052Z"
    }
   },
   "outputs": [
    {
     "name": "stdout",
     "output_type": "stream",
     "text": [
      "<class 'pandas.core.frame.DataFrame'>\n",
      "RangeIndex: 21459 entries, 0 to 21458\n",
      "Data columns (total 6 columns):\n",
      "date                 21459 non-null datetime64[ns]\n",
      "departureProvince    21459 non-null object\n",
      "departureCity        21459 non-null object\n",
      "arrivalProvince      21459 non-null object\n",
      "arrivalCity          21459 non-null object\n",
      "index                21459 non-null float64\n",
      "dtypes: datetime64[ns](1), float64(1), object(4)\n",
      "memory usage: 1006.0+ KB\n"
     ]
    }
   ],
   "source": [
    "migration_index = pd.read_csv(filedir[3],header =None)\n",
    "migration_index.columns = ['date','departureProvince','departureCity',\n",
    "                           'arrivalProvince','arrivalCity','index']\n",
    "migration_index['date'] = pd.to_datetime(migration_index['date'],format=\"%Y%m%d\")\n",
    "migration_index.info()"
   ]
  },
  {
   "cell_type": "markdown",
   "metadata": {},
   "source": [
    "## shortstay_date.csv"
   ]
  },
  {
   "cell_type": "code",
   "execution_count": 42,
   "metadata": {
    "ExecuteTime": {
     "end_time": "2020-03-05T14:56:55.631365Z",
     "start_time": "2020-03-05T14:56:55.598453Z"
    }
   },
   "outputs": [
    {
     "name": "stdout",
     "output_type": "stream",
     "text": [
      "<class 'pandas.core.frame.DataFrame'>\n",
      "RangeIndex: 10000 entries, 0 to 9999\n",
      "Data columns (total 5 columns):\n",
      "date       10000 non-null datetime64[ns]\n",
      "hour       10000 non-null int64\n",
      "gridLon    10000 non-null float64\n",
      "gridLat    10000 non-null float64\n",
      "index      10000 non-null float64\n",
      "dtypes: datetime64[ns](1), float64(3), int64(1)\n",
      "memory usage: 390.7 KB\n"
     ]
    }
   ],
   "source": [
    "shortStay = pd.read_csv(filedir[4], nrows=10000, header=None,sep='\\t')\n",
    "shortStay.columns = ['date','hour','gridLon','gridLat','index']\n",
    "shortStay['date'] = pd.to_datetime(shortStay['date'],format=\"%Y%m%d\")\n",
    "shortStay.info()"
   ]
  },
  {
   "cell_type": "markdown",
   "metadata": {},
   "source": [
    "# Data Analysis"
   ]
  },
  {
   "cell_type": "code",
   "execution_count": 49,
   "metadata": {
    "ExecuteTime": {
     "end_time": "2020-03-05T15:00:24.334446Z",
     "start_time": "2020-03-05T15:00:24.282614Z"
    }
   },
   "outputs": [
    {
     "data": {
      "text/plain": [
       "count    997.000000\n",
       "mean       0.309058\n",
       "std        1.050646\n",
       "min        0.010056\n",
       "25%        0.024527\n",
       "50%        0.054245\n",
       "75%        0.184915\n",
       "max       21.658304\n",
       "Name: coverage, dtype: float64"
      ]
     },
     "execution_count": 49,
     "metadata": {},
     "output_type": "execute_result"
    }
   ],
   "source": [
    "(area_passenger_info.coverage / 1e+6).describe()"
   ]
  },
  {
   "cell_type": "code",
   "execution_count": 60,
   "metadata": {
    "ExecuteTime": {
     "end_time": "2020-03-05T15:05:43.832464Z",
     "start_time": "2020-03-05T15:04:56.913817Z"
    }
   },
   "outputs": [],
   "source": [
    "coord = grid_strength.apply(lambda x:encode(x['startGridLon'],x['startGridLat']),axis=1)"
   ]
  },
  {
   "cell_type": "code",
   "execution_count": 65,
   "metadata": {
    "ExecuteTime": {
     "end_time": "2020-03-05T15:07:53.586002Z",
     "start_time": "2020-03-05T15:07:53.432046Z"
    }
   },
   "outputs": [
    {
     "name": "stdout",
     "output_type": "stream",
     "text": [
      "[Stats] Number of areas: 997, number of grid: 86555\n"
     ]
    }
   ],
   "source": [
    "print('[Stats] Number of areas: {:d}, number of grid: {:d}'.format(len(area_passenger_info),\n",
    "                                                                   len(coord.unique())))"
   ]
  },
  {
   "cell_type": "markdown",
   "metadata": {
    "heading_collapsed": true
   },
   "source": [
    "# First attempt"
   ]
  },
  {
   "cell_type": "code",
   "execution_count": 5,
   "metadata": {
    "hidden": true,
    "scrolled": true
   },
   "outputs": [],
   "source": [
    "area_passenger_ind['month'] = area_passenger_ind['datetime'].map(lambda x:x.month)\n",
    "area_passenger_ind['day'] = area_passenger_ind['datetime'].map(lambda x:x.day)\n",
    "\n",
    "cond1 = area_passenger_ind['month'] == 2\n",
    "cond2 = area_passenger_ind['day'] >= 7\n",
    "\n",
    "historic_pred = area_passenger_ind[cond1 & cond2]['Density']"
   ]
  },
  {
   "cell_type": "code",
   "execution_count": 13,
   "metadata": {
    "hidden": true
   },
   "outputs": [],
   "source": [
    "submit_example = pd.read_csv('../Data/test_submit_example.csv',header = None)\n",
    "submit_example.iloc[:,2] = list(historic_pred)\n",
    "submit_example.to_csv('../Data/submit_historic_07_15.csv',index=None,header=None)"
   ]
  },
  {
   "cell_type": "code",
   "execution_count": 14,
   "metadata": {
    "hidden": true
   },
   "outputs": [],
   "source": [
    "submit_example.columns = ['gridIdx','datetime','Density']\n",
    "submit_example['datetime'] = submit_example['datetime'].map(lambda x:str(x) + '00')\n",
    "submit_example['datetime'] = pd.to_datetime(submit_example['datetime'])\n",
    "\n",
    "submit_example['month'] = submit_example['datetime'].map(lambda x:x.month)\n",
    "submit_example['day'] = submit_example['datetime'].map(lambda x:x.day)"
   ]
  },
  {
   "cell_type": "code",
   "execution_count": 15,
   "metadata": {
    "hidden": true
   },
   "outputs": [],
   "source": [
    "mean = submit_example.pivot_table(index='gridIdx',\n",
    "                           values='Density',\n",
    "                           aggfunc='mean').reset_index()\n",
    "mean.columns = ['gridIdx','MeanDensity']\n",
    "mean['MeanDensity'] = 0.2 * np.array(mean['MeanDensity']) * np.random.rand(len(mean))\n",
    "\n",
    "submit_example['Density'] = submit_example['Density'] + pd.merge(submit_example,mean)['MeanDensity']"
   ]
  },
  {
   "cell_type": "code",
   "execution_count": 17,
   "metadata": {
    "hidden": true
   },
   "outputs": [],
   "source": [
    "noisy_historic_pred = submit_example['Density']\n",
    "\n",
    "submit_example = pd.read_csv('../Data/test_submit_example.csv',header = None)\n",
    "submit_example.iloc[:,2] = list(noisy_historic_pred)\n",
    "submit_example.to_csv('../Data/submit_noisy_historic_07_15.csv',index=None,header=None)"
   ]
  }
 ],
 "metadata": {
  "kernelspec": {
   "display_name": "Python 3",
   "language": "python",
   "name": "python3"
  },
  "language_info": {
   "codemirror_mode": {
    "name": "ipython",
    "version": 3
   },
   "file_extension": ".py",
   "mimetype": "text/x-python",
   "name": "python",
   "nbconvert_exporter": "python",
   "pygments_lexer": "ipython3",
   "version": "3.6.4rc1"
  },
  "latex_envs": {
   "LaTeX_envs_menu_present": true,
   "autoclose": false,
   "autocomplete": true,
   "bibliofile": "biblio.bib",
   "cite_by": "apalike",
   "current_citInitial": 1,
   "eqLabelWithNumbers": true,
   "eqNumInitial": 1,
   "hotkeys": {
    "equation": "Ctrl-E",
    "itemize": "Ctrl-I"
   },
   "labels_anchors": false,
   "latex_user_defs": false,
   "report_style_numbering": false,
   "user_envs_cfg": false
  },
  "toc": {
   "base_numbering": 1,
   "nav_menu": {},
   "number_sections": true,
   "sideBar": true,
   "skip_h1_title": false,
   "title_cell": "Table of Contents",
   "title_sidebar": "Contents",
   "toc_cell": false,
   "toc_position": {},
   "toc_section_display": true,
   "toc_window_display": false
  },
  "varInspector": {
   "cols": {
    "lenName": 16,
    "lenType": 16,
    "lenVar": 40
   },
   "kernels_config": {
    "python": {
     "delete_cmd_postfix": "",
     "delete_cmd_prefix": "del ",
     "library": "var_list.py",
     "varRefreshCmd": "print(var_dic_list())"
    },
    "r": {
     "delete_cmd_postfix": ") ",
     "delete_cmd_prefix": "rm(",
     "library": "var_list.r",
     "varRefreshCmd": "cat(var_dic_list()) "
    }
   },
   "types_to_exclude": [
    "module",
    "function",
    "builtin_function_or_method",
    "instance",
    "_Feature"
   ],
   "window_display": false
  }
 },
 "nbformat": 4,
 "nbformat_minor": 2
}

{
 "cells": [
  {
   "cell_type": "markdown",
   "metadata": {},
   "source": [
    "# Libraries"
   ]
  },
  {
   "cell_type": "code",
   "execution_count": 24,
   "metadata": {},
   "outputs": [],
   "source": [
    "import os\n",
    "import glob\n",
    "import datetime\n",
    "\n",
    "import numpy as np\n",
    "import pandas as pd\n",
    "from easyeda import eda"
   ]
  },
  {
   "cell_type": "markdown",
   "metadata": {},
   "source": [
    "# Load Data"
   ]
  },
  {
   "cell_type": "code",
   "execution_count": 2,
   "metadata": {},
   "outputs": [
    {
     "data": {
      "text/plain": [
       "['../Data\\\\area_passenger_index.csv',\n",
       " '../Data\\\\area_passenger_info.csv',\n",
       " '../Data\\\\grid_strength.csv',\n",
       " '../Data\\\\migration_index.csv',\n",
       " '../Data\\\\shortstay_20200117_20200131.csv',\n",
       " '../Data\\\\shortstay_20200201_20200215.csv']"
      ]
     },
     "execution_count": 2,
     "metadata": {},
     "output_type": "execute_result"
    }
   ],
   "source": [
    "filedir = glob.glob(pathname='../Data/*.csv')[:-1]\n",
    "filedir"
   ]
  },
  {
   "cell_type": "code",
   "execution_count": 3,
   "metadata": {},
   "outputs": [
    {
     "name": "stdout",
     "output_type": "stream",
     "text": [
      "<class 'pandas.core.frame.DataFrame'>\n",
      "RangeIndex: 717840 entries, 0 to 717839\n",
      "Data columns (total 3 columns):\n",
      "0    717840 non-null int64\n",
      "1    717840 non-null int64\n",
      "2    717840 non-null float64\n",
      "dtypes: float64(1), int64(2)\n",
      "memory usage: 16.4 MB\n"
     ]
    }
   ],
   "source": [
    "area_passenger_ind = pd.read_csv(filedir[0],header = None)\n",
    "area_passenger_ind.info()"
   ]
  },
  {
   "cell_type": "code",
   "execution_count": 5,
   "metadata": {},
   "outputs": [],
   "source": [
    "area_passenger_ind.columns = ['gridIdx','datetime','Density']\n",
    "area_passenger_ind['datetime'] = area_passenger_ind['datetime'].map(lambda x:str(x) + '00')\n",
    "area_passenger_ind['datetime'] = pd.to_datetime(area_passenger_ind['datetime'])"
   ]
  },
  {
   "cell_type": "markdown",
   "metadata": {},
   "source": [
    "# First attempt"
   ]
  },
  {
   "cell_type": "code",
   "execution_count": 6,
   "metadata": {
    "scrolled": true
   },
   "outputs": [],
   "source": [
    "area_passenger_ind['month'] = area_passenger_ind['datetime'].map(lambda x:x.month)\n",
    "area_passenger_ind['day'] = area_passenger_ind['datetime'].map(lambda x:x.day)\n",
    "\n",
    "cond1 = area_passenger_ind['month'] == 2\n",
    "cond2 = area_passenger_ind['day'] >= 7\n",
    "\n",
    "historic_pred = area_passenger_ind[cond1 & cond2]['Density']"
   ]
  },
  {
   "cell_type": "code",
   "execution_count": 7,
   "metadata": {},
   "outputs": [],
   "source": [
    "submit_example = pd.read_csv('../Data/test_submit_example.csv',header = None)\n",
    "submit_example.iloc[:,2] = list(historic_pred)\n",
    "submit_example.to_csv('../Data/submit_historic_07_15.csv',index=None,header=None)"
   ]
  },
  {
   "cell_type": "code",
   "execution_count": null,
   "metadata": {},
   "outputs": [],
   "source": [
    "submit_example.columns = ['gridIdx','datetime','Density']\n",
    "submit_example['datetime'] = submit_example['datetime'].map(lambda x:str(x) + '00')\n",
    "submit_example['datetime'] = pd.to_datetime(submit_example['datetime'])\n",
    "\n",
    "submit_example['month'] = submit_example['datetime'].map(lambda x:x.month)\n",
    "submit_example['day'] = submit_example['datetime'].map(lambda x:x.day)"
   ]
  },
  {
   "cell_type": "code",
   "execution_count": 29,
   "metadata": {},
   "outputs": [],
   "source": [
    "mean = submit_example.pivot_table(index='gridIdx',\n",
    "                           values='Density',\n",
    "                           aggfunc='mean').reset_index()\n",
    "mean.columns = ['gridIdx','MeanDensity']\n",
    "mean['MeanDensity'] = 0.2 * np.array(mean['MeanDensity']) * np.random.rand(len(mean)) \n",
    "submit_example['Density'] = submit_example['Density'] + mean['MeanDensity']"
   ]
  },
  {
   "cell_type": "code",
   "execution_count": 30,
   "metadata": {},
   "outputs": [],
   "source": [
    "noisy_historic_pred = submit_example['Density']\n",
    "\n",
    "submit_example = pd.read_csv('../Data/test_submit_example.csv',header = None)\n",
    "submit_example.iloc[:,2] = list(noisy_historic_pred)\n",
    "submit_example.to_csv('../Data/submit_noisy_historic_07_15.csv',index=None,header=None)"
   ]
  }
 ],
 "metadata": {
  "kernelspec": {
   "display_name": "Python 3",
   "language": "python",
   "name": "python3"
  },
  "language_info": {
   "codemirror_mode": {
    "name": "ipython",
    "version": 3
   },
   "file_extension": ".py",
   "mimetype": "text/x-python",
   "name": "python",
   "nbconvert_exporter": "python",
   "pygments_lexer": "ipython3",
   "version": "3.6.4rc1"
  }
 },
 "nbformat": 4,
 "nbformat_minor": 2
}

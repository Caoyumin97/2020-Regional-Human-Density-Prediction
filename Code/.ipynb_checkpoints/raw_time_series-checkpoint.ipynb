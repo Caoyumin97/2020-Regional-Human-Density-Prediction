{
 "cells": [
  {
   "cell_type": "markdown",
   "metadata": {},
   "source": [
    "# Libs"
   ]
  },
  {
   "cell_type": "code",
   "execution_count": 1,
   "metadata": {
    "ExecuteTime": {
     "end_time": "2020-03-11T01:50:36.618355Z",
     "start_time": "2020-03-11T01:50:35.988409Z"
    }
   },
   "outputs": [],
   "source": [
    "import os\n",
    "import re\n",
    "import sys\n",
    "import glob\n",
    "import time\n",
    "import datetime\n",
    "import warnings\n",
    "warnings.filterwarnings(\"ignore\")\n",
    "from collections import Counter\n",
    "\n",
    "import numpy as np\n",
    "import pandas as pd\n",
    "\n",
    "from sklearn.model_selection import train_test_split, KFold\n",
    "from sklearn.ensemble import RandomForestRegressor"
   ]
  },
  {
   "cell_type": "markdown",
   "metadata": {},
   "source": [
    "# Load Data"
   ]
  },
  {
   "cell_type": "code",
   "execution_count": 2,
   "metadata": {
    "ExecuteTime": {
     "end_time": "2020-03-11T01:51:06.756539Z",
     "start_time": "2020-03-11T01:51:06.744535Z"
    }
   },
   "outputs": [
    {
     "data": {
      "text/plain": [
       "['../Data\\\\area_passenger_index.csv',\n",
       " '../Data\\\\area_passenger_info.csv',\n",
       " '../Data\\\\grid_strength.csv',\n",
       " '../Data\\\\migration_index.csv',\n",
       " '../Data\\\\shortstay_20200117_20200131.csv',\n",
       " '../Data\\\\shortstay_20200201_20200215.csv']"
      ]
     },
     "execution_count": 2,
     "metadata": {},
     "output_type": "execute_result"
    }
   ],
   "source": [
    "filedir = glob.glob(pathname='../Data/*.csv')\n",
    "filedir"
   ]
  },
  {
   "cell_type": "code",
   "execution_count": 3,
   "metadata": {
    "ExecuteTime": {
     "end_time": "2020-03-11T01:51:18.697379Z",
     "start_time": "2020-03-11T01:51:16.732808Z"
    }
   },
   "outputs": [
    {
     "name": "stdout",
     "output_type": "stream",
     "text": [
      "<class 'pandas.core.frame.DataFrame'>\n",
      "RangeIndex: 717840 entries, 0 to 717839\n",
      "Data columns (total 3 columns):\n",
      "areaIdx     717840 non-null int64\n",
      "datetime    717840 non-null datetime64[ns]\n",
      "Density     717840 non-null float64\n",
      "dtypes: datetime64[ns](1), float64(1), int64(1)\n",
      "memory usage: 16.4 MB\n"
     ]
    }
   ],
   "source": [
    "area_passenger_ind = pd.read_csv(filedir[0],header = None)\n",
    "area_passenger_ind.columns = ['areaIdx','datetime','Density']\n",
    "area_passenger_ind['datetime'] = pd.to_datetime(area_passenger_ind['datetime'],format=\"%Y%m%d%H\")\n",
    "area_passenger_ind.info()"
   ]
  },
  {
   "cell_type": "markdown",
   "metadata": {},
   "source": [
    "# Autoregressive prediction"
   ]
  },
  {
   "cell_type": "code",
   "execution_count": null,
   "metadata": {},
   "outputs": [],
   "source": [
    "predValues = []\n",
    "sp = time.time()\n",
    "for areaId in range(1,998):\n",
    "    data = area_passenger_ind[area_passenger_ind.areaIdx == areaId]['Density'].values\n",
    "\n",
    "    # build dataset\n",
    "    window_size = 8\n",
    "    num_samples = len(data) - window_size\n",
    "    X = np.zeros((num_samples,window_size + embedding_dim))\n",
    "    y = np.zeros((num_samples,1))\n",
    "\n",
    "    for idx in range(len(data) - window_size - 1):\n",
    "        X[idx] = data[idx:idx + window_size]\n",
    "        y[idx] = data[idx + window_size + 1]\n",
    "\n",
    "    # evaluation metric\n",
    "    def score(y_pred, y_test):\n",
    "        rmse = np.sqrt(np.mean(np.square(y_pred - y_test)))\n",
    "        return 1 / (1 + rmse)\n",
    "\n",
    "    # train and predict\n",
    "    reg = RandomForestRegressor(n_estimators=100)\n",
    "    reg = reg.fit(X,y)\n",
    "\n",
    "    num_test_days = 9\n",
    "    data = data.tolist()\n",
    "    for i in range(num_test_days * 24):\n",
    "        pred_value = reg.predict(np.array(data[-window_size:]).reshape(1,-1))\n",
    "        predValues.append(np.abs(pred_value))\n",
    "        data.append(pred_value)\n",
    "    \n",
    "    if areaId % 100 == 0:\n",
    "        print(\"[Area-{:d}] Finished. Duration: {:.1f} sec.\".format(areaId, time.time() - sp))"
   ]
  },
  {
   "cell_type": "code",
   "execution_count": null,
   "metadata": {},
   "outputs": [],
   "source": [
    "submit_table = pd.read_csv(\"../Data/submit_example/test_submit_example.csv\",header = None)\n",
    "submit_table.iloc[:,2] = predValues\n",
    "submit_table.to_csv('../Data/submit_files/submit_rf_window=8_20200310.csv',header = None, index = None)"
   ]
  }
 ],
 "metadata": {
  "kernelspec": {
   "display_name": "Python 3",
   "language": "python",
   "name": "python3"
  },
  "language_info": {
   "codemirror_mode": {
    "name": "ipython",
    "version": 3
   },
   "file_extension": ".py",
   "mimetype": "text/x-python",
   "name": "python",
   "nbconvert_exporter": "python",
   "pygments_lexer": "ipython3",
   "version": "3.6.4rc1"
  },
  "latex_envs": {
   "LaTeX_envs_menu_present": true,
   "autoclose": false,
   "autocomplete": true,
   "bibliofile": "biblio.bib",
   "cite_by": "apalike",
   "current_citInitial": 1,
   "eqLabelWithNumbers": true,
   "eqNumInitial": 1,
   "hotkeys": {
    "equation": "Ctrl-E",
    "itemize": "Ctrl-I"
   },
   "labels_anchors": false,
   "latex_user_defs": false,
   "report_style_numbering": false,
   "user_envs_cfg": false
  },
  "toc": {
   "base_numbering": 1,
   "nav_menu": {},
   "number_sections": true,
   "sideBar": true,
   "skip_h1_title": false,
   "title_cell": "Table of Contents",
   "title_sidebar": "Contents",
   "toc_cell": false,
   "toc_position": {},
   "toc_section_display": true,
   "toc_window_display": false
  },
  "varInspector": {
   "cols": {
    "lenName": 16,
    "lenType": 16,
    "lenVar": 40
   },
   "kernels_config": {
    "python": {
     "delete_cmd_postfix": "",
     "delete_cmd_prefix": "del ",
     "library": "var_list.py",
     "varRefreshCmd": "print(var_dic_list())"
    },
    "r": {
     "delete_cmd_postfix": ") ",
     "delete_cmd_prefix": "rm(",
     "library": "var_list.r",
     "varRefreshCmd": "cat(var_dic_list()) "
    }
   },
   "types_to_exclude": [
    "module",
    "function",
    "builtin_function_or_method",
    "instance",
    "_Feature"
   ],
   "window_display": false
  }
 },
 "nbformat": 4,
 "nbformat_minor": 4
}

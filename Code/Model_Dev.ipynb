{
 "cells": [
  {
   "cell_type": "markdown",
   "metadata": {},
   "source": [
    "# Libs"
   ]
  },
  {
   "cell_type": "code",
   "execution_count": 46,
   "metadata": {
    "ExecuteTime": {
     "end_time": "2020-03-11T02:44:52.371756Z",
     "start_time": "2020-03-11T02:44:52.356127Z"
    }
   },
   "outputs": [],
   "source": [
    "import os\n",
    "import re\n",
    "import sys\n",
    "import glob\n",
    "import time\n",
    "import datetime\n",
    "import warnings\n",
    "warnings.filterwarnings(\"ignore\")\n",
    "from collections import Counter\n",
    "from functools import reduce\n",
    "\n",
    "import numpy as np\n",
    "import pandas as pd\n",
    "import matplotlib.pyplot as plt\n",
    "import seaborn as sns\n",
    "\n",
    "sys.path.append(\"d:\\softwares\\python36\\lib\\site-packages\")\n",
    "from easyeda import eda\n",
    "from geohash import encode\n",
    "\n",
    "from sklearn.model_selection import train_test_split, KFold\n",
    "from sklearn.ensemble import RandomForestRegressor\n",
    "\n",
    "import tensorflow as tf\n",
    "from tensorflow.keras import Model\n",
    "from tensorflow.keras.layers import Embedding, Dense, LeakyReLU, Input\n",
    "from tensorflow.keras.initializers import he_normal\n",
    "from tensorflow.keras.optimizers import Adam\n",
    "from tensorflow.keras.losses import KLD,categorical_crossentropy\n",
    "from tensorflow.keras.utils import normalize"
   ]
  },
  {
   "cell_type": "markdown",
   "metadata": {},
   "source": [
    "# Load Data"
   ]
  },
  {
   "cell_type": "code",
   "execution_count": 2,
   "metadata": {
    "ExecuteTime": {
     "end_time": "2020-03-11T01:52:53.202901Z",
     "start_time": "2020-03-11T01:52:53.195918Z"
    }
   },
   "outputs": [
    {
     "data": {
      "text/plain": [
       "['../Data\\\\area_passenger_index.csv',\n",
       " '../Data\\\\area_passenger_info.csv',\n",
       " '../Data\\\\grid_strength.csv',\n",
       " '../Data\\\\migration_index.csv',\n",
       " '../Data\\\\shortstay_20200117_20200131.csv',\n",
       " '../Data\\\\shortstay_20200201_20200215.csv']"
      ]
     },
     "execution_count": 2,
     "metadata": {},
     "output_type": "execute_result"
    }
   ],
   "source": [
    "filedir = glob.glob(pathname='../Data/*.csv')\n",
    "filedir"
   ]
  },
  {
   "cell_type": "markdown",
   "metadata": {},
   "source": [
    "# Feature Engineering"
   ]
  },
  {
   "cell_type": "markdown",
   "metadata": {},
   "source": [
    "## area info"
   ]
  },
  {
   "cell_type": "code",
   "execution_count": 3,
   "metadata": {
    "ExecuteTime": {
     "end_time": "2020-03-11T01:52:55.840376Z",
     "start_time": "2020-03-11T01:52:55.797375Z"
    }
   },
   "outputs": [
    {
     "name": "stdout",
     "output_type": "stream",
     "text": [
      "<class 'pandas.core.frame.DataFrame'>\n",
      "RangeIndex: 997 entries, 0 to 996\n",
      "Data columns (total 8 columns):\n",
      "areaIdx      997 non-null int64\n",
      "areaName     997 non-null object\n",
      "areaType     997 non-null object\n",
      "centerLon    997 non-null float64\n",
      "centerLat    997 non-null float64\n",
      "gridLon      997 non-null float64\n",
      "gridLat      997 non-null float64\n",
      "coverage     997 non-null float64\n",
      "dtypes: float64(5), int64(1), object(2)\n",
      "memory usage: 62.4+ KB\n"
     ]
    }
   ],
   "source": [
    "# load data\n",
    "area_passenger_info = pd.read_csv(filedir[1], header=None)\n",
    "area_passenger_info.columns = ['areaIdx', 'areaName', 'areaType', 'centerLon', 'centerLat',\n",
    "                               'gridLon', 'gridLat', 'coverage']\n",
    "area_passenger_info.info()\n",
    "\n",
    "# area type\n",
    "# 交通设施：0-2，旅游景点：3，教育培训：4，购物：5，医疗：6，运动健身：7\n",
    "areaTypes = area_passenger_info['areaType'].unique()\n",
    "normalTypes = {'旅游景点':3,'教育培训':4,'购物':5,'医疗':6,'运动健身':7}\n",
    "type_to_idx = {}\n",
    "idx = 0\n",
    "for item in areaTypes:\n",
    "    preType = re.match(\"(.*);(.*)\",item)[1]\n",
    "    if  preType == '交通设施':\n",
    "        type_to_idx[item] = idx\n",
    "        idx += 1\n",
    "    elif preType in normalTypes.keys():\n",
    "        type_to_idx[item] = normalTypes[preType]\n",
    "    else:\n",
    "        print(\"this type does not exist.\")\n",
    "\n",
    "area_passenger_info['areaType'] = area_passenger_info['areaType'].replace(type_to_idx)\n",
    "area_passenger_info['coverage'] = area_passenger_info['coverage'] / 4e+4"
   ]
  },
  {
   "cell_type": "markdown",
   "metadata": {},
   "source": [
    "## index-stats embedding"
   ]
  },
  {
   "cell_type": "code",
   "execution_count": 4,
   "metadata": {
    "ExecuteTime": {
     "end_time": "2020-03-11T01:53:01.148262Z",
     "start_time": "2020-03-11T01:52:59.223702Z"
    }
   },
   "outputs": [
    {
     "name": "stdout",
     "output_type": "stream",
     "text": [
      "<class 'pandas.core.frame.DataFrame'>\n",
      "RangeIndex: 717840 entries, 0 to 717839\n",
      "Data columns (total 3 columns):\n",
      "areaIdx     717840 non-null int64\n",
      "datetime    717840 non-null datetime64[ns]\n",
      "Density     717840 non-null float64\n",
      "dtypes: datetime64[ns](1), float64(1), int64(1)\n",
      "memory usage: 16.4 MB\n"
     ]
    }
   ],
   "source": [
    "area_passenger_ind = pd.read_csv(filedir[0],header = None)\n",
    "area_passenger_ind.columns = ['areaIdx','datetime','Density']\n",
    "area_passenger_ind['datetime'] = pd.to_datetime(area_passenger_ind['datetime'],format=\"%Y%m%d%H\")\n",
    "area_passenger_ind.info()"
   ]
  },
  {
   "cell_type": "code",
   "execution_count": 5,
   "metadata": {
    "ExecuteTime": {
     "end_time": "2020-03-11T01:53:08.292004Z",
     "start_time": "2020-03-11T01:53:01.176220Z"
    }
   },
   "outputs": [],
   "source": [
    "area_passenger_ind['ToD'] = area_passenger_ind['datetime'].map(lambda x: x.hour)\n",
    "area_passenger_ind['DoW'] = area_passenger_ind['datetime'].map(lambda x: x.weekday())\n",
    "embed_label = area_passenger_ind.pivot_table(index='areaIdx',\n",
    "                                             columns='ToD',\n",
    "                                             values='Density',\n",
    "                                             aggfunc=['mean', 'std', 'median', np.ptp])"
   ]
  },
  {
   "cell_type": "code",
   "execution_count": 6,
   "metadata": {
    "ExecuteTime": {
     "end_time": "2020-03-11T01:53:10.452011Z",
     "start_time": "2020-03-11T01:53:10.445062Z"
    },
    "scrolled": false
   },
   "outputs": [],
   "source": [
    "def get_embedding(embedding_dim, batch_size, epochs):\n",
    "    # build model\n",
    "    x = Input(shape=(1,))\n",
    "    o = Embedding(input_dim=997, output_dim=embedding_dim,\n",
    "                  embeddings_initializer=he_normal(), name='embedding')(x)\n",
    "    h = Dense(24 * 4, use_bias=False,\n",
    "              kernel_initializer=he_normal(), activation='relu')(o)\n",
    "    model = Model(inputs=x, outputs=h)\n",
    "    model.compile(loss='mse', optimizer=Adam(3e-4))\n",
    "    \n",
    "    # train embedding weights\n",
    "    hist = model.fit(np.arange(0, 997).reshape(-1, 1), normalize(embed_label.values),\n",
    "                 batch_size=batch_size, epochs=epochs, shuffle=True, verbose=0)\n",
    "    \n",
    "    # output embedding vector\n",
    "    areaEmbedding = model.get_weights()[0]\n",
    "    \n",
    "    return areaEmbedding, hist"
   ]
  },
  {
   "cell_type": "code",
   "execution_count": 7,
   "metadata": {
    "ExecuteTime": {
     "end_time": "2020-03-11T01:55:46.724228Z",
     "start_time": "2020-03-11T01:53:12.091886Z"
    },
    "scrolled": true
   },
   "outputs": [
    {
     "name": "stdout",
     "output_type": "stream",
     "text": [
      "WARNING:tensorflow:From d:\\softwares\\python36\\lib\\site-packages\\tensorflow\\python\\ops\\resource_variable_ops.py:435: colocate_with (from tensorflow.python.framework.ops) is deprecated and will be removed in a future version.\n",
      "Instructions for updating:\n",
      "Colocations handled automatically by placer.\n",
      "WARNING:tensorflow:From d:\\softwares\\python36\\lib\\site-packages\\tensorflow\\python\\keras\\utils\\losses_utils.py:170: to_float (from tensorflow.python.ops.math_ops) is deprecated and will be removed in a future version.\n",
      "Instructions for updating:\n",
      "Use tf.cast instead.\n",
      "WARNING:tensorflow:From d:\\softwares\\python36\\lib\\site-packages\\tensorflow\\python\\ops\\math_ops.py:3066: to_int32 (from tensorflow.python.ops.math_ops) is deprecated and will be removed in a future version.\n",
      "Instructions for updating:\n",
      "Use tf.cast instead.\n"
     ]
    }
   ],
   "source": [
    "embedding_dim = 100\n",
    "areaEmbedding, trainingLog = get_embedding(embedding_dim=embedding_dim,\n",
    "                                           batch_size=8,epochs=1000)"
   ]
  },
  {
   "cell_type": "markdown",
   "metadata": {},
   "source": [
    "## Historic index (same area)"
   ]
  },
  {
   "cell_type": "code",
   "execution_count": 60,
   "metadata": {
    "ExecuteTime": {
     "end_time": "2020-03-11T03:07:37.990147Z",
     "start_time": "2020-03-11T03:07:37.974271Z"
    }
   },
   "outputs": [],
   "source": [
    "def get_hitoric_index(area_passenger_ind, window_size, num_samples, num_areas, num_days):\n",
    "    \n",
    "    # init\n",
    "    historicIndex = np.zeros((num_samples, window_size))\n",
    "    sample_idx = 0\n",
    "    sp = time.time()\n",
    "    \n",
    "    # main loop\n",
    "    for area_idx in range(1, num_areas + 1):\n",
    "        if area_idx % 200 == 0:\n",
    "            print(\"[Area-{:d}] started, duration: {:.1f} sec.\".format(area_idx, time.time() - sp))\n",
    "        area_df = area_passenger_ind[area_passenger_ind.areaIdx == area_idx]\n",
    "        for i in range(24 * num_days - window_size):\n",
    "            historicIndex[sample_idx] = area_df['Density'].values[i:i + window_size]\n",
    "            sample_idx += 1\n",
    "    \n",
    "    return historicIndex"
   ]
  },
  {
   "cell_type": "code",
   "execution_count": 62,
   "metadata": {
    "ExecuteTime": {
     "end_time": "2020-03-11T03:07:59.525045Z",
     "start_time": "2020-03-11T03:07:50.740474Z"
    }
   },
   "outputs": [
    {
     "name": "stdout",
     "output_type": "stream",
     "text": [
      "[Area-200] started, duration: 1.7 sec.\n",
      "[Area-400] started, duration: 3.5 sec.\n",
      "[Area-600] started, duration: 5.2 sec.\n",
      "[Area-800] started, duration: 7.0 sec.\n"
     ]
    }
   ],
   "source": [
    "# params\n",
    "window_size = 6\n",
    "num_areas = 997\n",
    "num_days = 30\n",
    "num_samples = (24 * num_days - window_size)  * num_areas\n",
    "\n",
    "# get historic index\n",
    "historicIndex = get_hitoric_index(area_passenger_ind,\n",
    "                                  window_size=window_size,\n",
    "                                  num_samples=num_samples,\n",
    "                                  num_areas=num_areas,\n",
    "                                  num_days=num_days)"
   ]
  },
  {
   "cell_type": "code",
   "execution_count": 64,
   "metadata": {
    "ExecuteTime": {
     "end_time": "2020-03-11T03:08:41.154290Z",
     "start_time": "2020-03-11T03:08:40.959561Z"
    }
   },
   "outputs": [],
   "source": [
    "histMean = historicIndex.mean(axis = 1)\n",
    "histStd = historicIndex.std(axis = 1)"
   ]
  },
  {
   "cell_type": "code",
   "execution_count": 65,
   "metadata": {
    "ExecuteTime": {
     "end_time": "2020-03-11T03:08:43.759035Z",
     "start_time": "2020-03-11T03:08:43.563957Z"
    }
   },
   "outputs": [],
   "source": [
    "historicIndexDf = pd.DataFrame()\n",
    "for col in range(window_size):\n",
    "    historicIndexDf['historic_' + str(col)] = historicIndex[:,col]\n",
    "historicIndexDf['histMean'] = histMean\n",
    "historicIndexDf['histStd'] = histStd"
   ]
  },
  {
   "cell_type": "markdown",
   "metadata": {},
   "source": [
    "## Concat"
   ]
  },
  {
   "cell_type": "code",
   "execution_count": 66,
   "metadata": {
    "ExecuteTime": {
     "end_time": "2020-03-11T03:08:47.762903Z",
     "start_time": "2020-03-11T03:08:47.678852Z"
    }
   },
   "outputs": [],
   "source": [
    "areaEmbeddingDf = pd.DataFrame(np.arange(1,998),columns=['areaIdx'])\n",
    "for col in range(embedding_dim):\n",
    "    areaEmbeddingDf[\"embedding_\" + str(col)] = areaEmbedding[:,col]"
   ]
  },
  {
   "cell_type": "code",
   "execution_count": 67,
   "metadata": {
    "ExecuteTime": {
     "end_time": "2020-03-11T03:08:48.542916Z",
     "start_time": "2020-03-11T03:08:48.523150Z"
    }
   },
   "outputs": [],
   "source": [
    "areaAttr = pd.merge(area_passenger_info, areaEmbeddingDf, on='areaIdx')\n",
    "areaAttr.drop('areaName', axis=1, inplace=True)"
   ]
  },
  {
   "cell_type": "code",
   "execution_count": 68,
   "metadata": {
    "ExecuteTime": {
     "end_time": "2020-03-11T03:08:51.114701Z",
     "start_time": "2020-03-11T03:08:50.504168Z"
    }
   },
   "outputs": [],
   "source": [
    "dfs = [area_passenger_ind, areaAttr]\n",
    "AreaDensity = reduce(lambda a,b:pd.merge(a,b,on='areaIdx'),dfs)\n",
    "AreaDensity.drop(\"datetime\",axis=1,inplace=True)"
   ]
  },
  {
   "cell_type": "markdown",
   "metadata": {},
   "source": [
    "# Build Dataset"
   ]
  },
  {
   "cell_type": "code",
   "execution_count": 80,
   "metadata": {
    "ExecuteTime": {
     "end_time": "2020-03-11T03:18:19.640358Z",
     "start_time": "2020-03-11T03:15:30.718892Z"
    }
   },
   "outputs": [
    {
     "name": "stdout",
     "output_type": "stream",
     "text": [
      "[Area-200] started, duration: 33.8 sec.\n",
      "[Area-400] started, duration: 67.8 sec.\n",
      "[Area-600] started, duration: 102.0 sec.\n",
      "[Area-800] started, duration: 135.4 sec.\n"
     ]
    }
   ],
   "source": [
    "# init\n",
    "X = np.zeros((num_samples,AreaDensity.shape[1]))\n",
    "sample_idx = 0\n",
    "sp = time.time()\n",
    "\n",
    "# main loop\n",
    "for area_idx in range(1, num_areas + 1):\n",
    "    if area_idx % 200 == 0:\n",
    "        print(\"[Area-{:d}] started, duration: {:.1f} sec.\".format(area_idx, time.time() - sp))\n",
    "    area_df = AreaDensity[AreaDensity.areaIdx == area_idx]\n",
    "    for i in range(window_size, 24 * num_days):\n",
    "        X[sample_idx] = area_df.values[i,:]\n",
    "        sample_idx += 1"
   ]
  },
  {
   "cell_type": "code",
   "execution_count": 88,
   "metadata": {
    "ExecuteTime": {
     "end_time": "2020-03-11T03:23:11.261468Z",
     "start_time": "2020-03-11T03:23:06.385970Z"
    }
   },
   "outputs": [],
   "source": [
    "X = pd.concat((pd.DataFrame(X, columns=AreaDensity.columns),\n",
    "               historicIndexDf), axis=1)\n",
    "Y_data = X['Density']\n",
    "X_data = X.drop(['areaIdx', 'Density'], axis=1)"
   ]
  },
  {
   "cell_type": "markdown",
   "metadata": {
    "heading_collapsed": true
   },
   "source": [
    "# Model Dev"
   ]
  },
  {
   "cell_type": "code",
   "execution_count": 85,
   "metadata": {
    "hidden": true
   },
   "outputs": [
    {
     "name": "stdout",
     "output_type": "stream",
     "text": [
      "[Area-100] Finished. Duration: 91.9 sec.\n",
      "[Area-200] Finished. Duration: 181.7 sec.\n",
      "[Area-300] Finished. Duration: 272.7 sec.\n",
      "[Area-400] Finished. Duration: 362.7 sec.\n",
      "[Area-500] Finished. Duration: 452.7 sec.\n",
      "[Area-600] Finished. Duration: 543.6 sec.\n",
      "[Area-700] Finished. Duration: 631.6 sec.\n",
      "[Area-800] Finished. Duration: 725.1 sec.\n",
      "[Area-900] Finished. Duration: 814.8 sec.\n"
     ]
    }
   ],
   "source": [
    "predValues = []\n",
    "sp = time.time()\n",
    "for areaId in range(997):\n",
    "    data = area_passenger_ind[area_passenger_ind.areaIdx == areaId]['Density'].values\n",
    "\n",
    "    # build dataset\n",
    "    window_size = 8\n",
    "    num_samples = len(data) - window_size\n",
    "    X = np.zeros((num_samples,window_size + embedding_dim))\n",
    "    y = np.zeros((num_samples,1))\n",
    "\n",
    "    for idx in range(len(data) - window_size - 1):\n",
    "        X[idx] = data[idx:idx + window_size]\n",
    "        y[idx] = data[idx + window_size + 1]\n",
    "\n",
    "    # evaluation metric\n",
    "    def score(y_pred, y_test):\n",
    "        rmse = np.sqrt(np.mean(np.square(y_pred - y_test)))\n",
    "        return 1 / (1 + rmse)\n",
    "\n",
    "    # train and predict\n",
    "    reg = RandomForestRegressor(n_estimators=100)\n",
    "    reg = reg.fit(X,y)\n",
    "\n",
    "    num_test_days = 9\n",
    "    data = data.tolist()\n",
    "    for i in range(num_test_days * 24):\n",
    "        pred_value = reg.predict(np.array(data[-window_size:]).reshape(1,-1))\n",
    "        predValues.append(np.abs(pred_value))\n",
    "        data.append(pred_value)\n",
    "    \n",
    "    if areaId % 100 == 0:\n",
    "        print(\"[Area-{:d}] Finished. Duration: {:.1f} sec.\".format(areaId, time.time() - sp))"
   ]
  },
  {
   "cell_type": "code",
   "execution_count": 86,
   "metadata": {
    "hidden": true
   },
   "outputs": [],
   "source": [
    "submit_table = pd.read_csv(\"../Data/submit_example/test_submit_example.csv\",header = None)\n",
    "submit_table.iloc[:,2] = predValues\n",
    "submit_table.to_csv('../Data/submit_files/submit_rf_window=8_20200310.csv',header = None, index = None)"
   ]
  }
 ],
 "metadata": {
  "kernelspec": {
   "display_name": "Python 3",
   "language": "python",
   "name": "python3"
  },
  "language_info": {
   "codemirror_mode": {
    "name": "ipython",
    "version": 3
   },
   "file_extension": ".py",
   "mimetype": "text/x-python",
   "name": "python",
   "nbconvert_exporter": "python",
   "pygments_lexer": "ipython3",
   "version": "3.6.4rc1"
  },
  "latex_envs": {
   "LaTeX_envs_menu_present": true,
   "autoclose": false,
   "autocomplete": true,
   "bibliofile": "biblio.bib",
   "cite_by": "apalike",
   "current_citInitial": 1,
   "eqLabelWithNumbers": true,
   "eqNumInitial": 1,
   "hotkeys": {
    "equation": "Ctrl-E",
    "itemize": "Ctrl-I"
   },
   "labels_anchors": false,
   "latex_user_defs": false,
   "report_style_numbering": false,
   "user_envs_cfg": false
  },
  "toc": {
   "base_numbering": 1,
   "nav_menu": {},
   "number_sections": true,
   "sideBar": true,
   "skip_h1_title": false,
   "title_cell": "Table of Contents",
   "title_sidebar": "Contents",
   "toc_cell": false,
   "toc_position": {},
   "toc_section_display": true,
   "toc_window_display": false
  },
  "varInspector": {
   "cols": {
    "lenName": 16,
    "lenType": 16,
    "lenVar": 40
   },
   "kernels_config": {
    "python": {
     "delete_cmd_postfix": "",
     "delete_cmd_prefix": "del ",
     "library": "var_list.py",
     "varRefreshCmd": "print(var_dic_list())"
    },
    "r": {
     "delete_cmd_postfix": ") ",
     "delete_cmd_prefix": "rm(",
     "library": "var_list.r",
     "varRefreshCmd": "cat(var_dic_list()) "
    }
   },
   "position": {
    "height": "473.545px",
    "left": "1026.36px",
    "right": "20px",
    "top": "120px",
    "width": "350px"
   },
   "types_to_exclude": [
    "module",
    "function",
    "builtin_function_or_method",
    "instance",
    "_Feature"
   ],
   "window_display": false
  }
 },
 "nbformat": 4,
 "nbformat_minor": 2
}
